{
 "cells": [
  {
   "cell_type": "code",
   "execution_count": 6,
   "id": "77b14a05",
   "metadata": {},
   "outputs": [
    {
     "name": "stdout",
     "output_type": "stream",
     "text": [
      "Set 1:\n",
      "Largest number: 14.937493785495253\n",
      "Smallest number: -8.207221675703838\n",
      "List representation: [-0.33574889083607395, 0.426340704213267, 9.539350018437219, 14.937493785495253, -8.207221675703838]\n",
      "\n",
      "Set 2:\n",
      "Largest number: 13.339246177334218\n",
      "Smallest number: -5.461386335750026\n",
      "List representation: [2.3058318685165666, 2.1331152088589604, 9.267605834162847, 13.339246177334218, -5.461386335750026, -3.1186407604228163, -1.0665199851906024]\n",
      "\n",
      "Set 3:\n",
      "Largest number: 7.951827001295392\n",
      "Smallest number: -7.322654525307334\n",
      "List representation: [-7.322654525307334, -6.872399579203458, -4.94951410327065, 7.951827001295392]\n"
     ]
    }
   ],
   "source": [
    "\n",
    "\n",
    "#Task1\n",
    "import random\n",
    "\n",
    "class RealNumberSet:\n",
    "    def __init__(self):\n",
    "        self.numbers = set()\n",
    "\n",
    "    def add_number(self, number):\n",
    "        self.numbers.add(number)\n",
    "\n",
    "    def add_random_numbers(self, n, min_value=-10.0, max_value=15.0):\n",
    "        for _ in range(n):\n",
    "            random_number = random.uniform(min_value, max_value)\n",
    "            self.add_number(random_number)\n",
    "\n",
    "    def find_largest(self):\n",
    "        if not self.numbers:\n",
    "            return None\n",
    "        return max(self.numbers)\n",
    "\n",
    "    def find_smallest(self):\n",
    "        if not self.numbers:\n",
    "            return None\n",
    "        return min(self.numbers)\n",
    "\n",
    "    def to_list(self):\n",
    "        return list(self.numbers)\n",
    "\n",
    "# Creating three set objects and filling them with random numbers\n",
    "set1 = RealNumberSet()\n",
    "set1.add_random_numbers(5)\n",
    "\n",
    "set2 = RealNumberSet()\n",
    "set2.add_random_numbers(7)\n",
    "\n",
    "set3 = RealNumberSet()\n",
    "set3.add_random_numbers(4)\n",
    "\n",
    "# Running the functions for each object\n",
    "print(\"Set 1:\")\n",
    "print(\"Largest number:\", set1.find_largest())\n",
    "print(\"Smallest number:\", set1.find_smallest())\n",
    "print(\"List representation:\", set1.to_list())\n",
    "\n",
    "print(\"\\nSet 2:\")\n",
    "print(\"Largest number:\", set2.find_largest())\n",
    "print(\"Smallest number:\", set2.find_smallest())\n",
    "print(\"List representation:\", set2.to_list())\n",
    "\n",
    "print(\"\\nSet 3:\")\n",
    "print(\"Largest number:\", set3.find_largest())\n",
    "print(\"Smallest number:\", set3.find_smallest())\n",
    "print(\"List representation:\", set3.to_list())\n"
   ]
  },
  {
   "cell_type": "code",
   "execution_count": null,
   "id": "7050ab1f",
   "metadata": {},
   "outputs": [],
   "source": []
  },
  {
   "cell_type": "code",
   "execution_count": null,
   "id": "c0d969e3",
   "metadata": {},
   "outputs": [],
   "source": []
  }
 ],
 "metadata": {
  "kernelspec": {
   "display_name": "Python 3 (ipykernel)",
   "language": "python",
   "name": "python3"
  },
  "language_info": {
   "codemirror_mode": {
    "name": "ipython",
    "version": 3
   },
   "file_extension": ".py",
   "mimetype": "text/x-python",
   "name": "python",
   "nbconvert_exporter": "python",
   "pygments_lexer": "ipython3",
   "version": "3.11.5"
  }
 },
 "nbformat": 4,
 "nbformat_minor": 5
}
